{
  "nbformat": 4,
  "nbformat_minor": 0,
  "metadata": {
    "colab": {
      "name": "bidirectional_encoder_decoder_with_attention.ipynb",
      "provenance": [],
      "collapsed_sections": [],
      "toc_visible": true
    },
    "kernelspec": {
      "display_name": "Python 3",
      "name": "python3"
    },
    "accelerator": "GPU"
  },
  "cells": [
    {
      "cell_type": "markdown",
      "metadata": {
        "id": "J0Qjg6vuaHNt"
      },
      "source": [
        "# Neural machine translation with attention"
      ]
    },
    {
      "cell_type": "code",
      "metadata": {
        "id": "tnxXKDjq3jEL"
      },
      "source": [
        "import tensorflow as tf\n",
        "\n",
        "import matplotlib.pyplot as plt\n",
        "import matplotlib.ticker as ticker\n",
        "from sklearn.model_selection import train_test_split\n",
        "\n",
        "import unicodedata\n",
        "import re\n",
        "import numpy as np\n",
        "import os\n",
        "import io\n",
        "import time\n",
        "import pandas as pd"
      ],
      "execution_count": null,
      "outputs": []
    },
    {
      "cell_type": "code",
      "metadata": {
        "colab": {
          "base_uri": "https://localhost:8080/"
        },
        "id": "7OEnQC7aArpi",
        "outputId": "26f868d9-6fdb-4a5e-db56-865ac93bcaaf"
      },
      "source": [
        "from google.colab import drive\n",
        "drive.mount('/content/drive')"
      ],
      "execution_count": null,
      "outputs": [
        {
          "output_type": "stream",
          "text": [
            "Drive already mounted at /content/drive; to attempt to forcibly remount, call drive.mount(\"/content/drive\", force_remount=True).\n"
          ],
          "name": "stdout"
        }
      ]
    },
    {
      "cell_type": "code",
      "metadata": {
        "id": "FJ4t5ydzpwjk"
      },
      "source": [
        "t = 0\r\n",
        "e_X = []\r\n",
        "b_Y = []\r\n",
        "for line in open('/content/drive/My Drive/NLP/ben.txt'):\r\n",
        "  # only keep a limited number of samples\r\n",
        "  t += 1\r\n",
        "  # input and target are separated by tab\r\n",
        "  if '\\t' not in line:\r\n",
        "    continue\r\n",
        "  # split up the input and translation\r\n",
        "  input_text, translation, attrib = line.rstrip().split('\\t')\r\n",
        "  e_X.append( input_text )\r\n",
        "  b_Y.append( translation )"
      ],
      "execution_count": null,
      "outputs": []
    },
    {
      "cell_type": "code",
      "metadata": {
        "id": "kRVATYOgJs1b"
      },
      "source": [
        "# Download the file\n",
        "# path_to_zip = tf.keras.utils.get_file(\n",
        "#     'spa-eng.zip', origin='http://storage.googleapis.com/download.tensorflow.org/data/spa-eng.zip',\n",
        "#     extract=True)\n",
        "\n",
        "#path_to_file = os.path.dirname(path_to_zip)+\"/spa-eng/spa.txt\"\n",
        "#path_to_file = \"/content/dataset.xlsx\""
      ],
      "execution_count": null,
      "outputs": []
    },
    {
      "cell_type": "code",
      "metadata": {
        "id": "rd0jw-eC3jEh"
      },
      "source": [
        "# Converts the unicode file to ascii\n",
        "def unicode_to_ascii(s):\n",
        "  return ''.join(c for c in unicodedata.normalize('NFD', s)\n",
        "      if unicodedata.category(c) != 'Mn')\n",
        "\n",
        "\n",
        "def preprocess_sentence(w):\n",
        "  #w = unicode_to_ascii(w.lower().strip())\n",
        "\n",
        "  # creating a space between a word and the punctuation following it\n",
        "  # eg: \"he is a boy.\" => \"he is a boy .\"\n",
        "  # Reference:- https://stackoverflow.com/questions/3645931/python-padding-punctuation-with-white-spaces-keeping-punctuation\n",
        "  #w = re.sub(r\"([?.!,¿])\", r\" \\1 \", w)\n",
        "  #w = re.sub(r'[\" \"]+', \" \", w)\n",
        "\n",
        "  # replacing everything with space except (a-z, A-Z, \".\", \"?\", \"!\", \",\")\n",
        "  #w = re.sub(r\"[^?.!,¿]+\", \" \", w)\n",
        "\n",
        "  w = w.strip()\n",
        "\n",
        "  # adding a start and an end token to the sentence\n",
        "  # so that the model know when to start and stop predicting.\n",
        "  w = '<start> ' + w + ' <end>'\n",
        "  return w"
      ],
      "execution_count": null,
      "outputs": []
    },
    {
      "cell_type": "code",
      "metadata": {
        "id": "opI2GzOt479E",
        "colab": {
          "base_uri": "https://localhost:8080/"
        },
        "outputId": "73f7d822-3b7e-4f3f-d2e5-490aaa2bc742"
      },
      "source": [
        "en_sentence = u\"May I borrow this book?\"\n",
        "#sp_sentence = u\"¿Puedo tomar prestado este libro?\"\n",
        "sp_sentence = u\"পচা মাছ কিনার কোনই দরকার নাই\"\n",
        "\n",
        "print(preprocess_sentence(en_sentence))\n",
        "print(preprocess_sentence(sp_sentence))\n",
        "print(sp_sentence)"
      ],
      "execution_count": null,
      "outputs": [
        {
          "output_type": "stream",
          "text": [
            "<start> May I borrow this book? <end>\n",
            "<start> পচা মাছ কিনার কোনই দরকার নাই <end>\n",
            "পচা মাছ কিনার কোনই দরকার নাই\n"
          ],
          "name": "stdout"
        }
      ]
    },
    {
      "cell_type": "code",
      "metadata": {
        "id": "OHn4Dct23jEm"
      },
      "source": [
        "# 1. Remove the accents\n",
        "# 2. Clean the sentences\n",
        "# 3. Return word pairs in the format: [ENGLISH, SPANISH]\n",
        "def create_dataset(path, num_examples):\n",
        "  #lines = io.open(path, encoding='UTF-8').read().strip().split('\\n')\n",
        "  #word_pairs = [[preprocess_sentence(w) for w in l.split('\\t')]  for l in lines[:num_examples]]\n",
        "  #return zip(*word_pairs)\n",
        "  \n",
        "  # dataset = pd.read_excel(path_to_file)\n",
        "  # dataset['Banglish']\n",
        "  # return [preprocess_sentence(w) for w in tuple(dataset['Full Bangla'])] , [preprocess_sentence(w) for w in tuple(dataset['Banglish'])]\n",
        " \n",
        "  return [preprocess_sentence(w) for w in tuple( b_Y )] , [preprocess_sentence(w) for w in tuple( e_X )]"
      ],
      "execution_count": null,
      "outputs": []
    },
    {
      "cell_type": "code",
      "metadata": {
        "id": "cTbSbBz55QtF",
        "colab": {
          "base_uri": "https://localhost:8080/"
        },
        "outputId": "ad1e2f1f-3473-467d-987e-6b1dd9f3ad00"
      },
      "source": [
        "en, sp = create_dataset(\"\", None)\n",
        "print(en[-1])\n",
        "print(sp[-1])\n",
        "type(en)\n",
        "import numpy as np\n",
        "npp = np.array(sp)\n",
        "npp.shape"
      ],
      "execution_count": null,
      "outputs": [
        {
          "output_type": "stream",
          "text": [
            "<start> আমি ভেবেছিলাম এটা করা সহজ হবে, কিন্তু আমরা সারাদিন ধরে কাজ করেছি আর এখনো শেষ করে উঠতে পারিনি। <end>\n",
            "<start> I thought doing this would be easy, but we've been working all day and we're still not finished. <end>\n"
          ],
          "name": "stdout"
        },
        {
          "output_type": "execute_result",
          "data": {
            "text/plain": [
              "(4350,)"
            ]
          },
          "metadata": {
            "tags": []
          },
          "execution_count": 56
        }
      ]
    },
    {
      "cell_type": "code",
      "metadata": {
        "id": "bIOn8RCNDJXG"
      },
      "source": [
        "def tokenize(lang):\n",
        "  lang_tokenizer = tf.keras.preprocessing.text.Tokenizer(\n",
        "      filters='')\n",
        "  lang_tokenizer.fit_on_texts(lang)\n",
        "\n",
        "  tensor = lang_tokenizer.texts_to_sequences(lang)\n",
        "\n",
        "  tensor = tf.keras.preprocessing.sequence.pad_sequences(tensor,\n",
        "                                                         padding='post')\n",
        "\n",
        "  return tensor, lang_tokenizer"
      ],
      "execution_count": null,
      "outputs": []
    },
    {
      "cell_type": "code",
      "metadata": {
        "id": "eAY9k49G3jE_"
      },
      "source": [
        "def load_dataset(path, num_examples=None):\n",
        "  # creating cleaned input, output pairs\n",
        "  targ_lang, inp_lang = create_dataset(path, num_examples)\n",
        "\n",
        "  input_tensor, inp_lang_tokenizer = tokenize(inp_lang)\n",
        "  target_tensor, targ_lang_tokenizer = tokenize(targ_lang)\n",
        "\n",
        "  return input_tensor, target_tensor, inp_lang_tokenizer, targ_lang_tokenizer"
      ],
      "execution_count": null,
      "outputs": []
    },
    {
      "cell_type": "code",
      "metadata": {
        "id": "cnxC7q-j3jFD"
      },
      "source": [
        "# Try experimenting with the size of that dataset\n",
        "num_examples = 4350\n",
        "input_tensor, target_tensor, inp_lang, targ_lang = load_dataset(path_to_file, num_examples)\n",
        "\n",
        "# Calculate max_length of the target tensors\n",
        "max_length_targ, max_length_inp = target_tensor.shape[1], input_tensor.shape[1]"
      ],
      "execution_count": null,
      "outputs": []
    },
    {
      "cell_type": "code",
      "metadata": {
        "id": "4QILQkOs3jFG",
        "colab": {
          "base_uri": "https://localhost:8080/"
        },
        "outputId": "f309734d-522b-4f83-ce17-e5c208b4f007"
      },
      "source": [
        "# Creating training and validation sets using an 80-20 split\n",
        "input_tensor_train, input_tensor_val, target_tensor_train, target_tensor_val = train_test_split(input_tensor, target_tensor, test_size=0.001)\n",
        "\n",
        "# Show length\n",
        "print(len(input_tensor_train), len(target_tensor_train), len(input_tensor_val), len(target_tensor_val))"
      ],
      "execution_count": null,
      "outputs": [
        {
          "output_type": "stream",
          "text": [
            "4345 4345 5 5\n"
          ],
          "name": "stdout"
        }
      ]
    },
    {
      "cell_type": "code",
      "metadata": {
        "id": "lJPmLZGMeD5q"
      },
      "source": [
        "def convert(lang, tensor):\n",
        "  for t in tensor:\n",
        "    if t!=0:\n",
        "      print (\"%d ----> %s\" % (t, lang.index_word[t]))"
      ],
      "execution_count": null,
      "outputs": []
    },
    {
      "cell_type": "code",
      "metadata": {
        "id": "VXukARTDd7MT",
        "colab": {
          "base_uri": "https://localhost:8080/"
        },
        "outputId": "61a0b307-d10d-4977-e890-f2ed89b231b0"
      },
      "source": [
        "print (\"Input Language; index to word mapping\")\n",
        "convert(inp_lang, input_tensor_train[0])\n",
        "print ()\n",
        "print (\"Target Language; index to word mapping\")\n",
        "convert(targ_lang, target_tensor_train[0])"
      ],
      "execution_count": null,
      "outputs": [
        {
          "output_type": "stream",
          "text": [
            "Input Language; index to word mapping\n",
            "1 ----> <start>\n",
            "101 ----> ask\n",
            "451 ----> again\n",
            "392 ----> later.\n",
            "2 ----> <end>\n",
            "\n",
            "Target Language; index to word mapping\n",
            "1 ----> <start>\n",
            "107 ----> আবার\n",
            "254 ----> পরে\n",
            "78 ----> জিজ্ঞাসা\n",
            "498 ----> করবে।\n",
            "2 ----> <end>\n"
          ],
          "name": "stdout"
        }
      ]
    },
    {
      "cell_type": "code",
      "metadata": {
        "id": "TqHsArVZ3jFS"
      },
      "source": [
        "BUFFER_SIZE = len(input_tensor_train)\n",
        "BATCH_SIZE = 64\n",
        "steps_per_epoch = len(input_tensor_train)//BATCH_SIZE\n",
        "embedding_dim = 256\n",
        "units = 1024\n",
        "vocab_inp_size = len(inp_lang.word_index)+1\n",
        "vocab_tar_size = len(targ_lang.word_index)+1\n",
        "\n",
        "dataset = tf.data.Dataset.from_tensor_slices((input_tensor_train, target_tensor_train)).shuffle(BUFFER_SIZE)\n",
        "dataset = dataset.batch(BATCH_SIZE, drop_remainder=True)"
      ],
      "execution_count": null,
      "outputs": []
    },
    {
      "cell_type": "code",
      "metadata": {
        "id": "qc6-NK1GtWQt",
        "colab": {
          "base_uri": "https://localhost:8080/"
        },
        "outputId": "3b1e5c56-8921-42cb-ba02-752b33812881"
      },
      "source": [
        "example_input_batch, example_target_batch = next(iter(dataset))\n",
        "example_input_batch.shape, example_target_batch.shape"
      ],
      "execution_count": null,
      "outputs": [
        {
          "output_type": "execute_result",
          "data": {
            "text/plain": [
              "(TensorShape([64, 21]), TensorShape([64, 20]))"
            ]
          },
          "metadata": {
            "tags": []
          },
          "execution_count": 64
        }
      ]
    },
    {
      "cell_type": "code",
      "metadata": {
        "id": "nZ2rI24i3jFg"
      },
      "source": [
        "class Encoder(tf.keras.Model):\n",
        "  def __init__(self, vocab_size, embedding_dim, enc_units, batch_sz):\n",
        "    super(Encoder, self).__init__()\n",
        "    self.batch_sz = batch_sz\n",
        "    self.enc_units = enc_units\n",
        "    self.embedding = tf.keras.layers.Embedding(vocab_size, embedding_dim)\n",
        "    \n",
        "    self.gru = tf.keras.layers.Bidirectional( tf.keras.layers.LSTM(self.enc_units,\n",
        "                                   return_sequences=True,\n",
        "                                   return_state=True,\n",
        "                                   recurrent_initializer='glorot_uniform', dropout=0.5) )\n",
        "\n",
        "  def call(self, x, hidden):\n",
        "    x = self.embedding(x)\n",
        "    output, f_h, f_c, b_h, b_c  = self.gru(x, initial_state = hidden)\n",
        "    state_h = tf.keras.layers.Concatenate()([f_h, b_h])\n",
        "    state_c = tf.keras.layers.Concatenate()([f_c, b_c])\n",
        "    state = tf.convert_to_tensor([state_h, state_c])\n",
        "    # state = tf.keras.layers.Concatenate()([state_h, state_c])\n",
        "    return output, state_h, state\n",
        "\n",
        "  def initialize_hidden_state(self):\n",
        "    # return tf.zeros((self.batch_sz, self.enc_units))\n",
        "    return [tf.zeros((self.batch_sz, self.enc_units)) for i in range(4)]"
      ],
      "execution_count": null,
      "outputs": []
    },
    {
      "cell_type": "code",
      "metadata": {
        "id": "60gSVh05Jl6l",
        "colab": {
          "base_uri": "https://localhost:8080/"
        },
        "outputId": "0aa54d5f-7818-4894-b4bb-6ba7a6a65cbe"
      },
      "source": [
        "encoder = Encoder(vocab_inp_size, embedding_dim, units, BATCH_SIZE)\n",
        "\n",
        "# sample input\n",
        "sample_hidden = encoder.initialize_hidden_state()\n",
        "print( tf.convert_to_tensor( sample_hidden ).shape )\n",
        "sample_output, sample_hidden, enc_state = encoder(example_input_batch, sample_hidden)\n",
        "print ('Encoder output shape: (batch size, sequence length, units) {}'.format(sample_output.shape))\n",
        "print ('Encoder Hidden state shape: (batch size, units) {}'.format(sample_hidden.shape))\n",
        "print( enc_state[0].shape )"
      ],
      "execution_count": null,
      "outputs": [
        {
          "output_type": "stream",
          "text": [
            "(4, 64, 1024)\n",
            "Encoder output shape: (batch size, sequence length, units) (64, 21, 2048)\n",
            "Encoder Hidden state shape: (batch size, units) (64, 2048)\n",
            "(64, 2048)\n"
          ],
          "name": "stdout"
        }
      ]
    },
    {
      "cell_type": "code",
      "metadata": {
        "id": "umohpBN2OM94"
      },
      "source": [
        "class BahdanauAttention(tf.keras.layers.Layer):\n",
        "  def __init__(self, units):\n",
        "    super(BahdanauAttention, self).__init__()\n",
        "    self.W1 = tf.keras.layers.Dense(units)\n",
        "    self.W2 = tf.keras.layers.Dense(units)\n",
        "    self.V = tf.keras.layers.Dense(1)\n",
        "\n",
        "  def call(self, query, values):\n",
        "    # query hidden state shape == (batch_size, hidden size)\n",
        "    # query_with_time_axis shape == (batch_size, 1, hidden size)\n",
        "    # values shape == (batch_size, max_len, hidden size)\n",
        "    # we are doing this to broadcast addition along the time axis to calculate the score\n",
        "    query_with_time_axis = tf.expand_dims(query, 1)\n",
        "\n",
        "    # score shape == (batch_size, max_length, 1)\n",
        "    # we get 1 at the last axis because we are applying score to self.V\n",
        "    # the shape of the tensor before applying self.V is (batch_size, max_length, units)\n",
        "    score = self.V(tf.nn.tanh(\n",
        "        self.W1(query_with_time_axis) + self.W2(values)))\n",
        "\n",
        "    # attention_weights shape == (batch_size, max_length, 1)\n",
        "    attention_weights = tf.nn.softmax(score, axis=1)\n",
        "\n",
        "    # context_vector shape after sum == (batch_size, hidden_size)\n",
        "    context_vector = attention_weights * values\n",
        "    context_vector = tf.reduce_sum(context_vector, axis=1)\n",
        "\n",
        "    return context_vector, attention_weights"
      ],
      "execution_count": null,
      "outputs": []
    },
    {
      "cell_type": "code",
      "metadata": {
        "id": "k534zTHiDjQU",
        "colab": {
          "base_uri": "https://localhost:8080/"
        },
        "outputId": "37f6c124-b54e-441e-d8e4-31016584d70f"
      },
      "source": [
        "attention_layer = BahdanauAttention(10)\n",
        "attention_result, attention_weights = attention_layer(sample_hidden, sample_output)\n",
        "\n",
        "print( tf.convert_to_tensor( sample_output ).shape )\n",
        "print( tf.convert_to_tensor( sample_hidden ).shape )\n",
        "\n",
        "print(\"Attention result shape: (batch size, units) {}\".format(attention_result.shape))\n",
        "print(\"Attention weights shape: (batch_size, sequence_length, 1) {}\".format(attention_weights.shape))"
      ],
      "execution_count": null,
      "outputs": [
        {
          "output_type": "stream",
          "text": [
            "(64, 21, 2048)\n",
            "(64, 2048)\n",
            "Attention result shape: (batch size, units) (64, 2048)\n",
            "Attention weights shape: (batch_size, sequence_length, 1) (64, 21, 1)\n"
          ],
          "name": "stdout"
        }
      ]
    },
    {
      "cell_type": "code",
      "metadata": {
        "id": "yJ_B3mhW3jFk"
      },
      "source": [
        "class Decoder(tf.keras.Model):\n",
        "  def __init__(self, vocab_size, embedding_dim, dec_units, batch_sz):\n",
        "    super(Decoder, self).__init__()\n",
        "    self.batch_sz = batch_sz\n",
        "    self.dec_units = dec_units\n",
        "    self.embedding = tf.keras.layers.Embedding(vocab_size, embedding_dim)\n",
        "    self.gru = tf.keras.layers.LSTM(self.dec_units,\n",
        "                                   return_sequences=True,\n",
        "                                   return_state=True,\n",
        "                                   recurrent_initializer='glorot_uniform', dropout=0.5)\n",
        "    self.fc = tf.keras.layers.Dense(vocab_size)\n",
        "\n",
        "    # used for attention\n",
        "    self.attention = BahdanauAttention(self.dec_units)\n",
        "\n",
        "  def call(self, x, hidden, enc_output, enc_state):\n",
        "    # enc_output shape == (batch_size, max_length, hidden_size)\n",
        "    context_vector, attention_weights = self.attention(hidden, enc_output)\n",
        "\n",
        "    # x shape after passing through embedding == (batch_size, 1, embedding_dim)\n",
        "    x = self.embedding(x)\n",
        "\n",
        "    # x shape after concatenation == (batch_size, 1, embedding_dim + hidden_size)\n",
        "    x = tf.concat([tf.expand_dims(context_vector, 1), x], axis=-1)\n",
        "\n",
        "    # passing the concatenated vector to the GRU\n",
        "    output, state, _ = self.gru(x, initial_state = [enc_state[0], enc_state[1]] )\n",
        "\n",
        "    # output shape == (batch_size * 1, hidden_size)\n",
        "    output = tf.reshape(output, (-1, output.shape[2]))\n",
        "\n",
        "    # output shape == (batch_size, vocab)\n",
        "    x = self.fc(output)\n",
        "\n",
        "    return x, state, attention_weights"
      ],
      "execution_count": null,
      "outputs": []
    },
    {
      "cell_type": "code",
      "metadata": {
        "id": "P5UY8wko3jFp",
        "colab": {
          "base_uri": "https://localhost:8080/"
        },
        "outputId": "8ac0c742-284b-43c6-e7b9-437fc6717d60"
      },
      "source": [
        "decoder = Decoder(vocab_tar_size, embedding_dim, units*2, BATCH_SIZE)\n",
        "\n",
        "sample_decoder_output, state_decoder, attention_weights_decoder = decoder(tf.random.uniform((BATCH_SIZE, 1)),\n",
        "                                      sample_hidden, sample_output, enc_state)\n",
        "\n",
        "print( tf.convert_to_tensor(sample_decoder_output).shape )\n",
        "print( tf.convert_to_tensor(state_decoder).shape )\n",
        "print( tf.convert_to_tensor(attention_weights_decoder).shape )\n",
        "\n",
        "print ('Decoder output shape: (batch_size, vocab size) {}'.format(sample_decoder_output.shape))"
      ],
      "execution_count": null,
      "outputs": [
        {
          "output_type": "stream",
          "text": [
            "(64, 3543)\n",
            "(64, 2048)\n",
            "(64, 21, 1)\n",
            "Decoder output shape: (batch_size, vocab size) (64, 3543)\n"
          ],
          "name": "stdout"
        }
      ]
    },
    {
      "cell_type": "code",
      "metadata": {
        "id": "WmTHr5iV3jFr"
      },
      "source": [
        "optimizer = tf.keras.optimizers.Adam()\n",
        "loss_object = tf.keras.losses.SparseCategoricalCrossentropy(\n",
        "    from_logits=True, reduction='none')\n",
        "\n",
        "def loss_function(real, pred):\n",
        "  mask = tf.math.logical_not(tf.math.equal(real, 0))\n",
        "  loss_ = loss_object(real, pred)\n",
        "\n",
        "  mask = tf.cast(mask, dtype=loss_.dtype)\n",
        "  loss_ *= mask\n",
        "\n",
        "  return tf.reduce_mean(loss_)"
      ],
      "execution_count": null,
      "outputs": []
    },
    {
      "cell_type": "code",
      "metadata": {
        "id": "Zj8bXQTgNwrF"
      },
      "source": [
        "# checkpoint_dir = './training_checkpoints'\n",
        "# checkpoint_prefix = os.path.join(checkpoint_dir, \"ckpt\")\n",
        "# checkpoint = tf.train.Checkpoint(optimizer=optimizer,\n",
        "#                                  encoder=encoder,\n",
        "#                                  decoder=decoder)"
      ],
      "execution_count": null,
      "outputs": []
    },
    {
      "cell_type": "code",
      "metadata": {
        "id": "sC9ArXSsVfqn"
      },
      "source": [
        "@tf.function\n",
        "def train_step(inp, targ, enc_hidden):\n",
        "  loss = 0\n",
        "\n",
        "  with tf.GradientTape() as tape:\n",
        "    enc_output, enc_hidden, full_enc_state = encoder(inp, enc_hidden )\n",
        "\n",
        "    dec_hidden = enc_hidden\n",
        "\n",
        "    dec_input = tf.expand_dims([targ_lang.word_index['<start>']] * BATCH_SIZE, 1)\n",
        "\n",
        "    # Teacher forcing - feeding the target as the next input\n",
        "    for t in range(1, targ.shape[1]):\n",
        "      # passing enc_output to the decoder\n",
        "      predictions, dec_hidden, _ = decoder(dec_input, dec_hidden, enc_output, full_enc_state)\n",
        "\n",
        "      loss += loss_function(targ[:, t], predictions)\n",
        "\n",
        "      # using teacher forcing\n",
        "      dec_input = tf.expand_dims(targ[:, t], 1)\n",
        "\n",
        "  batch_loss = (loss / int(targ.shape[1]))\n",
        "\n",
        "  variables = encoder.trainable_variables + decoder.trainable_variables\n",
        "\n",
        "  gradients = tape.gradient(loss, variables)\n",
        "\n",
        "  optimizer.apply_gradients(zip(gradients, variables))\n",
        "\n",
        "  return batch_loss"
      ],
      "execution_count": null,
      "outputs": []
    },
    {
      "cell_type": "code",
      "metadata": {
        "id": "ddefjBMa3jF0",
        "colab": {
          "base_uri": "https://localhost:8080/"
        },
        "outputId": "f5dacbc2-53f5-4ea2-c4c8-a5d7d0deabb6"
      },
      "source": [
        "EPOCHS = 30\n",
        "\n",
        "for epoch in range(EPOCHS):\n",
        "  start = time.time()\n",
        "\n",
        "  enc_hidden = encoder.initialize_hidden_state()\n",
        "  total_loss = 0\n",
        "\n",
        "  print( tf.convert_to_tensor(enc_hidden).shape )\n",
        "\n",
        "  for (batch, (inp, targ)) in enumerate(dataset.take(steps_per_epoch)):\n",
        "    batch_loss = train_step(inp, targ, enc_hidden)\n",
        "    total_loss += batch_loss\n",
        "\n",
        "    if batch % 100 == 0:\n",
        "      print('Epoch {} Batch {} Loss {:.4f}'.format(epoch + 1,\n",
        "                                                   batch,\n",
        "                                                   batch_loss.numpy()))\n",
        "  # saving (checkpoint) the model every 2 epochs\n",
        "  #if (epoch + 1) % 2 == 0:\n",
        "  #  checkpoint.save(file_prefix = checkpoint_prefix)\n",
        "\n",
        "  print('Epoch {} Loss {:.4f}'.format(epoch + 1,\n",
        "                                      total_loss / steps_per_epoch))\n",
        "  print('Time taken for 1 epoch {} sec\\n'.format(time.time() - start))"
      ],
      "execution_count": null,
      "outputs": [
        {
          "output_type": "stream",
          "text": [
            "(4, 64, 1024)\n",
            "Epoch 1 Batch 0 Loss 0.0327\n",
            "Epoch 1 Loss 0.0474\n",
            "Time taken for 1 epoch 34.56386923789978 sec\n",
            "\n",
            "(4, 64, 1024)\n",
            "Epoch 2 Batch 0 Loss 0.0364\n",
            "Epoch 2 Loss 0.0476\n",
            "Time taken for 1 epoch 34.63686275482178 sec\n",
            "\n",
            "(4, 64, 1024)\n",
            "Epoch 3 Batch 0 Loss 0.0521\n",
            "Epoch 3 Loss 0.0488\n",
            "Time taken for 1 epoch 34.313172578811646 sec\n",
            "\n",
            "(4, 64, 1024)\n",
            "Epoch 4 Batch 0 Loss 0.0408\n",
            "Epoch 4 Loss 0.0488\n",
            "Time taken for 1 epoch 34.71059322357178 sec\n",
            "\n",
            "(4, 64, 1024)\n",
            "Epoch 5 Batch 0 Loss 0.0438\n",
            "Epoch 5 Loss 0.0477\n",
            "Time taken for 1 epoch 34.376290798187256 sec\n",
            "\n",
            "(4, 64, 1024)\n",
            "Epoch 6 Batch 0 Loss 0.0345\n",
            "Epoch 6 Loss 0.0471\n",
            "Time taken for 1 epoch 34.52840518951416 sec\n",
            "\n",
            "(4, 64, 1024)\n",
            "Epoch 7 Batch 0 Loss 0.0454\n",
            "Epoch 7 Loss 0.0483\n",
            "Time taken for 1 epoch 34.587098598480225 sec\n",
            "\n",
            "(4, 64, 1024)\n",
            "Epoch 8 Batch 0 Loss 0.0384\n",
            "Epoch 8 Loss 0.0480\n",
            "Time taken for 1 epoch 34.52070093154907 sec\n",
            "\n",
            "(4, 64, 1024)\n",
            "Epoch 9 Batch 0 Loss 0.0418\n",
            "Epoch 9 Loss 0.0490\n",
            "Time taken for 1 epoch 34.5425386428833 sec\n",
            "\n",
            "(4, 64, 1024)\n",
            "Epoch 10 Batch 0 Loss 0.0316\n",
            "Epoch 10 Loss 0.0522\n",
            "Time taken for 1 epoch 34.5675573348999 sec\n",
            "\n",
            "(4, 64, 1024)\n",
            "Epoch 11 Batch 0 Loss 0.0348\n",
            "Epoch 11 Loss 0.0532\n",
            "Time taken for 1 epoch 34.539737701416016 sec\n",
            "\n",
            "(4, 64, 1024)\n",
            "Epoch 12 Batch 0 Loss 0.0448\n",
            "Epoch 12 Loss 0.0569\n",
            "Time taken for 1 epoch 34.60112428665161 sec\n",
            "\n",
            "(4, 64, 1024)\n",
            "Epoch 13 Batch 0 Loss 0.0507\n",
            "Epoch 13 Loss 0.0569\n",
            "Time taken for 1 epoch 34.51277780532837 sec\n",
            "\n",
            "(4, 64, 1024)\n",
            "Epoch 14 Batch 0 Loss 0.0426\n",
            "Epoch 14 Loss 0.0563\n",
            "Time taken for 1 epoch 34.60842728614807 sec\n",
            "\n",
            "(4, 64, 1024)\n",
            "Epoch 15 Batch 0 Loss 0.0398\n",
            "Epoch 15 Loss 0.0531\n",
            "Time taken for 1 epoch 34.62178182601929 sec\n",
            "\n",
            "(4, 64, 1024)\n",
            "Epoch 16 Batch 0 Loss 0.0528\n",
            "Epoch 16 Loss 0.0512\n",
            "Time taken for 1 epoch 34.413978815078735 sec\n",
            "\n",
            "(4, 64, 1024)\n",
            "Epoch 17 Batch 0 Loss 0.0439\n",
            "Epoch 17 Loss 0.0504\n",
            "Time taken for 1 epoch 34.60510301589966 sec\n",
            "\n",
            "(4, 64, 1024)\n",
            "Epoch 18 Batch 0 Loss 0.0392\n",
            "Epoch 18 Loss 0.0481\n",
            "Time taken for 1 epoch 34.55327606201172 sec\n",
            "\n",
            "(4, 64, 1024)\n",
            "Epoch 19 Batch 0 Loss 0.0450\n",
            "Epoch 19 Loss 0.0474\n",
            "Time taken for 1 epoch 34.55464506149292 sec\n",
            "\n",
            "(4, 64, 1024)\n",
            "Epoch 20 Batch 0 Loss 0.0416\n",
            "Epoch 20 Loss 0.0447\n",
            "Time taken for 1 epoch 34.6192467212677 sec\n",
            "\n",
            "(4, 64, 1024)\n",
            "Epoch 21 Batch 0 Loss 0.0483\n",
            "Epoch 21 Loss 0.0444\n",
            "Time taken for 1 epoch 34.523711919784546 sec\n",
            "\n",
            "(4, 64, 1024)\n",
            "Epoch 22 Batch 0 Loss 0.0355\n",
            "Epoch 22 Loss 0.0425\n",
            "Time taken for 1 epoch 34.535048484802246 sec\n",
            "\n",
            "(4, 64, 1024)\n",
            "Epoch 23 Batch 0 Loss 0.0338\n",
            "Epoch 23 Loss 0.0429\n",
            "Time taken for 1 epoch 34.68246674537659 sec\n",
            "\n",
            "(4, 64, 1024)\n",
            "Epoch 24 Batch 0 Loss 0.0328\n",
            "Epoch 24 Loss 0.0434\n",
            "Time taken for 1 epoch 34.46859884262085 sec\n",
            "\n",
            "(4, 64, 1024)\n",
            "Epoch 25 Batch 0 Loss 0.0329\n",
            "Epoch 25 Loss 0.0417\n",
            "Time taken for 1 epoch 34.60496950149536 sec\n",
            "\n",
            "(4, 64, 1024)\n",
            "Epoch 26 Batch 0 Loss 0.0341\n",
            "Epoch 26 Loss 0.0413\n",
            "Time taken for 1 epoch 34.50243830680847 sec\n",
            "\n",
            "(4, 64, 1024)\n",
            "Epoch 27 Batch 0 Loss 0.0329\n",
            "Epoch 27 Loss 0.0413\n",
            "Time taken for 1 epoch 34.491544246673584 sec\n",
            "\n",
            "(4, 64, 1024)\n",
            "Epoch 28 Batch 0 Loss 0.0349\n",
            "Epoch 28 Loss 0.0412\n",
            "Time taken for 1 epoch 34.537179946899414 sec\n",
            "\n",
            "(4, 64, 1024)\n",
            "Epoch 29 Batch 0 Loss 0.0377\n",
            "Epoch 29 Loss 0.0422\n",
            "Time taken for 1 epoch 34.534796476364136 sec\n",
            "\n",
            "(4, 64, 1024)\n",
            "Epoch 30 Batch 0 Loss 0.0425\n",
            "Epoch 30 Loss 0.0431\n",
            "Time taken for 1 epoch 34.515483140945435 sec\n",
            "\n"
          ],
          "name": "stdout"
        }
      ]
    },
    {
      "cell_type": "code",
      "metadata": {
        "id": "UJpT9D5_OgP6"
      },
      "source": [
        "# restoring the latest checkpoint in checkpoint_dir\n",
        "#checkpoint.restore(tf.train.latest_checkpoint(checkpoint_dir))"
      ],
      "execution_count": null,
      "outputs": []
    },
    {
      "cell_type": "code",
      "metadata": {
        "id": "WrAM0FDomq3E",
        "colab": {
          "base_uri": "https://localhost:8080/"
        },
        "outputId": "0cfc2b83-4c89-44f8-c23e-6061b720b57b"
      },
      "source": [
        "translate(u'i wish i can fly')\r\n",
        "translate(u'i wish i can fly.')"
      ],
      "execution_count": null,
      "outputs": [
        {
          "output_type": "stream",
          "text": [
            "<start> i wish i can fly <end>\n",
            "Input: <start> i wish i can fly <end>\n",
            "Predicted translation: আমি যদি সাঁতার কাটতে পারতাম। <end> \n",
            "<start> i wish i can fly. <end>\n",
            "Input: <start> i wish i can fly. <end>\n",
            "Predicted translation: আমি খালি কোথা থেকে পাব? <end> \n"
          ],
          "name": "stdout"
        }
      ]
    },
    {
      "cell_type": "code",
      "metadata": {
        "colab": {
          "base_uri": "https://localhost:8080/"
        },
        "id": "nYg5LCqbYHvn",
        "outputId": "e893a7cf-994a-4e18-b9e2-ce9d36cfd954"
      },
      "source": [
        "translate(u\"i do not like you.\")"
      ],
      "execution_count": null,
      "outputs": [
        {
          "output_type": "stream",
          "text": [
            "<start> i do not like you. <end>\n",
            "Input: <start> i do not like you. <end>\n",
            "Predicted translation: আমি আপনার কথা বুঝতে পারছি না। <end> \n"
          ],
          "name": "stdout"
        }
      ]
    },
    {
      "cell_type": "code",
      "metadata": {
        "colab": {
          "base_uri": "https://localhost:8080/"
        },
        "id": "_PJXa2WpYNKF",
        "outputId": "b681f8e5-cf9e-4e8e-c569-00d88e3a6aa9"
      },
      "source": [
        "translate(u'i am eating')"
      ],
      "execution_count": null,
      "outputs": [
        {
          "output_type": "stream",
          "text": [
            "<start> i am eating <end>\n",
            "Input: <start> i am eating <end>\n",
            "Predicted translation: আমি ফুটবল খেলি। <end> \n"
          ],
          "name": "stdout"
        }
      ]
    },
    {
      "cell_type": "code",
      "metadata": {
        "id": "zSx2iM36EZQZ"
      },
      "source": [
        "#translate(u'esta es mi vida.')"
      ],
      "execution_count": null,
      "outputs": []
    },
    {
      "cell_type": "code",
      "metadata": {
        "id": "A3LLCx3ZE0Ls"
      },
      "source": [
        "#translate(u'¿todavia estan en casa?')"
      ],
      "execution_count": null,
      "outputs": []
    },
    {
      "cell_type": "code",
      "metadata": {
        "id": "DUQVLVqUE1YW"
      },
      "source": [
        "# wrong translation\n",
        "#translate(u'trata de averiguarlo.')"
      ],
      "execution_count": null,
      "outputs": []
    },
    {
      "cell_type": "code",
      "metadata": {
        "id": "ITrZu0HAE53U"
      },
      "source": [
        "# value = ''\r\n",
        "# while True:\r\n",
        "#   value = input()\r\n",
        "#   if value == 'quit':\r\n",
        "#     break\r\n",
        "#   translate(value.lower())"
      ],
      "execution_count": null,
      "outputs": []
    },
    {
      "cell_type": "code",
      "metadata": {
        "id": "UfBidx0_H6pj"
      },
      "source": [
        "how are you?\r\n",
        "আপনি কেমন আছেন ?\r\n",
        "\r\n",
        "i wish i can fly.\r\n",
        "আমি যদি সাঁতার কাটতে পারতাম।\r\n",
        "\r\n",
        "i like both.\r\n",
        "আমার দুটোই পছন্দ।\r\n",
        "\r\n",
        "i was very scared.\r\n",
        "আমি খুব ভয়ে পেয়েগেছিলাম।\r\n",
        "\r\n",
        "leave me alone.\r\n",
        "আমাকে কেউ বোঝে না।\r\n",
        "\r\n",
        "i don't like you.\r\n",
        "আমি তোমাকে ভালো লাগে না।"
      ],
      "execution_count": null,
      "outputs": []
    },
    {
      "cell_type": "code",
      "metadata": {
        "colab": {
          "base_uri": "https://localhost:8080/"
        },
        "id": "mtDB-bRRWUUB",
        "outputId": "ac5f1e05-d2f1-4f98-c152-ff98e95bb05e"
      },
      "source": [
        "string_lists = [ 'how are you?', 'i wish i can fly', 'i like both.', 'i was very scared.', 'leave me alone.', 'i don\\'t like you.' ]\r\n",
        "for i in string_lists:\r\n",
        "  print( translate( i.lower())  )"
      ],
      "execution_count": null,
      "outputs": [
        {
          "output_type": "stream",
          "text": [
            "<start> how are you? <end>\n",
            "Input: <start> how are you? <end>\n",
            "Predicted translation: তুমি কেমন আছো? <end> \n",
            "None\n",
            "<start> i wish i can fly <end>\n",
            "Input: <start> i wish i can fly <end>\n",
            "Predicted translation: আমি যদি সাঁতার কাটতে পারতাম। <end> \n",
            "None\n",
            "<start> i like both. <end>\n",
            "Input: <start> i like both. <end>\n",
            "Predicted translation: আমার দুটোই পছন্দ। <end> \n",
            "None\n",
            "<start> i was very scared. <end>\n",
            "Input: <start> i was very scared. <end>\n",
            "Predicted translation: আমি খুব ভয়ে পেয়েগেছিলাম। <end> \n",
            "None\n",
            "<start> leave me alone. <end>\n",
            "Input: <start> leave me alone. <end>\n",
            "Predicted translation: আমাকে একলা ফেলে রেখে যাবেন না। <end> \n",
            "None\n",
            "<start> i don't like you. <end>\n",
            "Input: <start> i don't like you. <end>\n",
            "Predicted translation: আমি আপনার বিশ্বাস করি। <end> \n",
            "None\n"
          ],
          "name": "stdout"
        }
      ]
    },
    {
      "cell_type": "code",
      "metadata": {
        "id": "wT9Osw2oQg2f"
      },
      "source": [
        "vai tui koi?\r\n",
        "<start> vai tui koi ? <end>\r\n",
        "Input: <start> vai tui koi ? <end>\r\n",
        "Predicted translation: তুই কি পাগল হইয়া গেছেন ? <end> \r\n",
        "ami valo achi\r\n",
        "<start> ami valo achi <end>\r\n",
        "Input: <start> ami valo achi <end>\r\n",
        "Predicted translation: আমি গেছিলাম যে ওদের বাসায় তখন <end> \r\n",
        "ami valo achi.\r\n",
        "<start> ami valo achi . <end>\r\n",
        "Input: <start> ami valo achi . <end>\r\n",
        "Predicted translation: আমি আছি . <end> \r\n",
        "tui akhon koi?\r\n",
        "<start> tui akhon koi ? <end>\r\n",
        "Input: <start> tui akhon koi ? <end>\r\n",
        "Predicted translation: তুই সন্ধ্যায় থাকবোনা বাসায় <end> \r\n",
        "tui koi?\r\n",
        "<start> tui koi ? <end>\r\n",
        "Input: <start> tui koi ? <end>\r\n",
        "Predicted translation: তুই সন্ধ্যায় থাকবোনা বাসায় <end> \r\n",
        "tui vhai ay.\r\n",
        "<start> tui vhai ay . <end>\r\n",
        "Input: <start> tui vhai ay . <end>\r\n",
        "Predicted translation: হা বাসায় তুই আই পেরা নাই <end> \r\n",
        "tui jokhon paros koris.\r\n",
        "<start> tui jokhon paros koris . <end>\r\n",
        "Input: <start> tui jokhon paros koris . <end>\r\n",
        "Predicted translation: তুই পাইলে দিছ <end> \r\n",
        "Vai tui koi?\r\n",
        "<start> vai tui koi ? <end>\r\n",
        "Input: <start> vai tui koi ? <end>\r\n",
        "Predicted translation: তুই কি পাগল হইয়া গেছেন ? <end> \r\n",
        "vai tui koi?\r\n",
        "<start> vai tui koi ? <end>\r\n",
        "Input: <start> vai tui koi ? <end>\r\n",
        "Predicted translation: তুই কি পাগল হইয়া গেছেন ? <end> \r\n",
        "ami r jabo na.\r\n",
        "<start> ami r jabo na . <end>\r\n",
        "Input: <start> ami r jabo na . <end>\r\n",
        "Predicted translation: আমি ডিসিশন নিচ্ছি আর থাকি না দিয়া করতে চাই <end> \r\n",
        "kemon jani.\r\n",
        "<start> kemon jani . <end>\r\n",
        "Input: <start> kemon jani . <end>\r\n",
        "Predicted translation: খুব ভালো <end> \r\n",
        "valo onk.\r\n",
        "<start> valo onk . <end>\r\n",
        "Input: <start> valo onk . <end>\r\n",
        "Predicted translation: হা বাসায় অনেক <end> \r\n",
        "valo onek.\r\n",
        "<start> valo onek . <end>\r\n",
        "Input: <start> valo onek . <end>\r\n",
        "Predicted translation: হা বাসায় <end> \r\n",
        "vai onk valo.\r\n",
        "<start> vai onk valo . <end>\r\n",
        "Input: <start> vai onk valo . <end>\r\n",
        "Predicted translation: ভাই জোস ক্লিক করছেন তো <end> \r\n",
        "apni kemon achen?\r\n",
        "<start> apni kemon achen ? <end>"
      ],
      "execution_count": null,
      "outputs": []
    },
    {
      "cell_type": "markdown",
      "metadata": {
        "id": "RTe5P5ioMJwN"
      },
      "source": [
        "## Next steps\n",
        "\n",
        "* [Download a different dataset](http://www.manythings.org/anki/) to experiment with translations, for example, English to German, or English to French.\n",
        "* Experiment with training on a larger dataset, or using more epochs\n"
      ]
    }
  ]
}