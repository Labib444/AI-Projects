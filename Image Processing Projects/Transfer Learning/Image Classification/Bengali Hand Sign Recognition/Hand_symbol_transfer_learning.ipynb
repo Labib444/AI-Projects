{
  "nbformat": 4,
  "nbformat_minor": 0,
  "metadata": {
    "colab": {
      "name": "Hand_symbol_transfer_learning.ipynb",
      "provenance": [],
      "collapsed_sections": []
    },
    "kernelspec": {
      "name": "python3",
      "display_name": "Python 3"
    },
    "accelerator": "GPU"
  },
  "cells": [
    {
      "cell_type": "code",
      "metadata": {
        "id": "qF3iu5h1VHWw"
      },
      "source": [
        "# More imports\r\n",
        "from tensorflow.keras.layers import Input, Dense, Flatten, Dropout\r\n",
        "from tensorflow.keras.applications.vgg19 import VGG19 as PretrainedModel, \\\r\n",
        "  preprocess_input\r\n",
        "from tensorflow.keras.models import Model\r\n",
        "from tensorflow.keras.optimizers import SGD, Adam\r\n",
        "from tensorflow.keras.preprocessing import image\r\n",
        "from tensorflow.keras.preprocessing.image import ImageDataGenerator\r\n",
        "\r\n",
        "from glob import glob\r\n",
        "\r\n",
        "import numpy as np\r\n",
        "import pandas as pd\r\n",
        "import matplotlib.pyplot as plt\r\n",
        "import sys, os\r\n",
        "import cv2"
      ],
      "execution_count": 1,
      "outputs": []
    },
    {
      "cell_type": "code",
      "metadata": {
        "id": "p-K8YpwDZ5a0"
      },
      "source": [
        "X = np.load('/content/drive/MyDrive/Kaggle /Bangla Sign Language/aug_images_3_channels_200_200.npy')\r\n",
        "Y = np.load('/content/drive/MyDrive/Kaggle /Bangla Sign Language/aug_labels_3_channels_200_200.npy')"
      ],
      "execution_count": 2,
      "outputs": []
    },
    {
      "cell_type": "code",
      "metadata": {
        "id": "BKwJnx1PzN5j"
      },
      "source": [
        "#del X\r\n",
        "#del Y"
      ],
      "execution_count": null,
      "outputs": []
    },
    {
      "cell_type": "code",
      "metadata": {
        "id": "hcQgXIxGy6uo"
      },
      "source": [
        "#X = np.load('/content/drive/MyDrive/Kaggle /Bangla Sign Language/aug_images_3_channels_128_128.npy')\r\n",
        "#Y = np.load('/content/drive/MyDrive/Kaggle /Bangla Sign Language/aug_labels_3_channels_128_128.npy')"
      ],
      "execution_count": null,
      "outputs": []
    },
    {
      "cell_type": "code",
      "metadata": {
        "colab": {
          "base_uri": "https://localhost:8080/"
        },
        "id": "JdYczX5Jl2g7",
        "outputId": "be437f27-d3f6-4963-d031-5aea9d9600cf"
      },
      "source": [
        "print(X.shape)\r\n",
        "print(Y.shape)"
      ],
      "execution_count": 3,
      "outputs": [
        {
          "output_type": "stream",
          "text": [
            "(2836, 200, 200, 3)\n",
            "(2836,)\n"
          ],
          "name": "stdout"
        }
      ]
    },
    {
      "cell_type": "code",
      "metadata": {
        "id": "0iCDQ5HmZ_XA"
      },
      "source": [
        "from sklearn.model_selection import train_test_split\r\n",
        "X_train, X_test, y_train, y_test = train_test_split( X, Y, test_size=0.1 )"
      ],
      "execution_count": 4,
      "outputs": []
    },
    {
      "cell_type": "code",
      "metadata": {
        "id": "i71vBGxpZK1R"
      },
      "source": [
        "IMAGE_SIZE = [200,200]"
      ],
      "execution_count": 6,
      "outputs": []
    },
    {
      "cell_type": "code",
      "metadata": {
        "id": "hvf92BZTVinf",
        "colab": {
          "base_uri": "https://localhost:8080/"
        },
        "outputId": "261c344b-1227-4f39-c1f1-8a9b547e1e57"
      },
      "source": [
        "ptm = PretrainedModel(\r\n",
        "    input_shape=IMAGE_SIZE + [3],\r\n",
        "    weights='imagenet',\r\n",
        "    include_top=False)"
      ],
      "execution_count": 7,
      "outputs": [
        {
          "output_type": "stream",
          "text": [
            "Downloading data from https://storage.googleapis.com/tensorflow/keras-applications/vgg19/vgg19_weights_tf_dim_ordering_tf_kernels_notop.h5\n",
            "80142336/80134624 [==============================] - 0s 0us/step\n"
          ],
          "name": "stdout"
        }
      ]
    },
    {
      "cell_type": "code",
      "metadata": {
        "id": "50aEKmlKVjYN"
      },
      "source": [
        "# freeze pretrained model weights\r\n",
        "ptm.trainable = False"
      ],
      "execution_count": 8,
      "outputs": []
    },
    {
      "cell_type": "code",
      "metadata": {
        "id": "uVAcgb1-XxBv"
      },
      "source": [
        "# x = Flatten()(ptm.output)\r\n",
        "# x = Dense(1024, activation='relu')(x)\r\n",
        "# x = Dropout( 0.5 )(x)\r\n",
        "# x = Dense(1024, activation='relu')(x)\r\n",
        "# x = Dropout( 0.5 )(x)\r\n",
        "# x = Dense(5, activation='softmax')(x)"
      ],
      "execution_count": 9,
      "outputs": []
    },
    {
      "cell_type": "code",
      "metadata": {
        "id": "5XggSWo6_AIc"
      },
      "source": [
        "x = Flatten()(ptm.output)\r\n",
        "x = Dense(4096, activation='relu')(x)\r\n",
        "x = Dropout( 0.5 )(x)\r\n",
        "x = Dense(4096, activation='relu')(x)\r\n",
        "x = Dropout( 0.5 )(x)\r\n",
        "x = Dense(5, activation='softmax')(x)"
      ],
      "execution_count": 11,
      "outputs": []
    },
    {
      "cell_type": "code",
      "metadata": {
        "id": "FCoN2wjyVqXI"
      },
      "source": [
        "# create a model object\r\n",
        "model = Model(inputs=ptm.input, outputs=x)"
      ],
      "execution_count": 12,
      "outputs": []
    },
    {
      "cell_type": "code",
      "metadata": {
        "id": "D3OcSuZ4Vr-X"
      },
      "source": [
        "# view the structure of the model\r\n",
        "model.summary()"
      ],
      "execution_count": null,
      "outputs": []
    },
    {
      "cell_type": "code",
      "metadata": {
        "id": "CsJUqNW0XrLG"
      },
      "source": [
        "model.compile( optimizer='adam', loss = 'sparse_categorical_crossentropy', metrics = ['accuracy'] )"
      ],
      "execution_count": 15,
      "outputs": []
    },
    {
      "cell_type": "code",
      "metadata": {
        "colab": {
          "base_uri": "https://localhost:8080/"
        },
        "id": "obqIGdfEXGHr",
        "outputId": "ec04e516-522f-4806-a2f0-afc8aac422fc"
      },
      "source": [
        "model.fit( X, Y, epochs=10 )"
      ],
      "execution_count": 17,
      "outputs": [
        {
          "output_type": "stream",
          "text": [
            "Epoch 1/10\n",
            "89/89 [==============================] - 7s 75ms/step - loss: 4.7043 - accuracy: 0.9309\n",
            "Epoch 2/10\n",
            "89/89 [==============================] - 7s 76ms/step - loss: 6.0641 - accuracy: 0.9348\n",
            "Epoch 3/10\n",
            "89/89 [==============================] - 7s 75ms/step - loss: 6.4740 - accuracy: 0.9372\n",
            "Epoch 4/10\n",
            "89/89 [==============================] - 7s 76ms/step - loss: 6.0752 - accuracy: 0.9461\n",
            "Epoch 5/10\n",
            "89/89 [==============================] - 7s 75ms/step - loss: 6.2825 - accuracy: 0.9408\n",
            "Epoch 6/10\n",
            "89/89 [==============================] - 7s 75ms/step - loss: 7.2401 - accuracy: 0.9559\n",
            "Epoch 7/10\n",
            "89/89 [==============================] - 7s 76ms/step - loss: 5.4252 - accuracy: 0.9489\n",
            "Epoch 8/10\n",
            "89/89 [==============================] - 7s 75ms/step - loss: 4.5925 - accuracy: 0.9623\n",
            "Epoch 9/10\n",
            "89/89 [==============================] - 7s 75ms/step - loss: 8.6961 - accuracy: 0.9690\n",
            "Epoch 10/10\n",
            "89/89 [==============================] - 7s 75ms/step - loss: 3.5052 - accuracy: 0.9690\n"
          ],
          "name": "stdout"
        },
        {
          "output_type": "execute_result",
          "data": {
            "text/plain": [
              "<tensorflow.python.keras.callbacks.History at 0x7f0b7e2a2400>"
            ]
          },
          "metadata": {
            "tags": []
          },
          "execution_count": 17
        }
      ]
    },
    {
      "cell_type": "code",
      "metadata": {
        "id": "MNYqXEaCfTyx"
      },
      "source": [
        "model.save('/content/drive/MyDrive/Kaggle /Bangla Sign Language/vgg19_200_200_3_weights_h5.h5')"
      ],
      "execution_count": 19,
      "outputs": []
    },
    {
      "cell_type": "code",
      "metadata": {
        "colab": {
          "base_uri": "https://localhost:8080/"
        },
        "id": "g6fnMOND1jfs",
        "outputId": "b9ea7b91-e114-42ca-db5c-34bf36e8743c"
      },
      "source": [
        "result = model.predict( np.array( cv2.resize( cv2.imread( '/content/drive/MyDrive/Kaggle /Bangla Sign Language/My Pictures/test_2_2.jpg' ), (200,200) ) ).reshape( (1, 200, 200, 3) ) )\r\n",
        "val = np.argmax( result, axis=-1 )[0]\r\n",
        "val"
      ],
      "execution_count": 18,
      "outputs": [
        {
          "output_type": "execute_result",
          "data": {
            "text/plain": [
              "2"
            ]
          },
          "metadata": {
            "tags": []
          },
          "execution_count": 18
        }
      ]
    },
    {
      "cell_type": "code",
      "metadata": {
        "id": "1HYoH80y3UB-"
      },
      "source": [
        "from tensorflow import keras\r\n",
        "test_model =  keras.models.load_model('/content/drive/MyDrive/Kaggle /Bangla Sign Language/vgg19_200_200_3_weights_h5.h5')"
      ],
      "execution_count": 20,
      "outputs": []
    },
    {
      "cell_type": "code",
      "metadata": {
        "id": "Z8UhEoihjcfp"
      },
      "source": [
        "model = test_model"
      ],
      "execution_count": null,
      "outputs": []
    },
    {
      "cell_type": "code",
      "metadata": {
        "id": "3t2UEOLd121H"
      },
      "source": [
        ""
      ],
      "execution_count": null,
      "outputs": []
    }
  ]
}