{
  "nbformat": 4,
  "nbformat_minor": 0,
  "metadata": {
    "colab": {
      "name": "Digit_Recognition_Kaggle.ipynb",
      "provenance": [],
      "collapsed_sections": []
    },
    "kernelspec": {
      "name": "python3",
      "display_name": "Python 3"
    },
    "accelerator": "GPU"
  },
  "cells": [
    {
      "cell_type": "code",
      "metadata": {
        "id": "0kK3h4ugaWmN"
      },
      "source": [
        "from tensorflow.keras.models import Sequential\r\n",
        "from tensorflow.keras.layers import Convolution2D , MaxPooling2D , Flatten, Dense, Dropout\r\n",
        "import numpy as np\r\n",
        "import pandas as pd\r\n",
        "import matplotlib.pyplot as plt\r\n",
        "import sys, os\r\n",
        "import cv2"
      ],
      "execution_count": 1,
      "outputs": []
    },
    {
      "cell_type": "code",
      "metadata": {
        "id": "N4Rnkz1SakLp"
      },
      "source": [
        "Train = pd.read_csv('/content/drive/MyDrive/Kaggle /Digit Recognition/train.csv')\r\n",
        "Test = pd.read_csv('/content/drive/MyDrive/Kaggle /Digit Recognition/test.csv')"
      ],
      "execution_count": 3,
      "outputs": []
    },
    {
      "cell_type": "code",
      "metadata": {
        "id": "NdqQ20XVaovN"
      },
      "source": [
        "Train.head()"
      ],
      "execution_count": null,
      "outputs": []
    },
    {
      "cell_type": "code",
      "metadata": {
        "id": "FFQcJwqqakSK"
      },
      "source": [
        "Label = Train.loc[:,'label']\r\n",
        "Train = Train.drop(columns=['label'])"
      ],
      "execution_count": 5,
      "outputs": []
    },
    {
      "cell_type": "code",
      "metadata": {
        "id": "AN0nBoXzasO3"
      },
      "source": [
        "train_img = Train.values\r\n",
        "test_img = Test.values"
      ],
      "execution_count": 6,
      "outputs": []
    },
    {
      "cell_type": "code",
      "metadata": {
        "id": "zaUIqFSWbOhw"
      },
      "source": [
        "train_img = train_img.reshape( (train_img.shape[0], 28, 28, 1) )\r\n",
        "test_img = test_img.reshape( (test_img.shape[0], 28, 28, 1) )"
      ],
      "execution_count": 7,
      "outputs": []
    },
    {
      "cell_type": "code",
      "metadata": {
        "colab": {
          "base_uri": "https://localhost:8080/"
        },
        "id": "oBtL_4HPdhzW",
        "outputId": "72ba531b-d90c-4558-d729-7da14760b959"
      },
      "source": [
        "print(train_img.shape)\r\n",
        "print(test_img.shape)"
      ],
      "execution_count": 25,
      "outputs": [
        {
          "output_type": "stream",
          "text": [
            "(42000, 28, 28, 1)\n",
            "(28000, 28, 28, 1)\n"
          ],
          "name": "stdout"
        }
      ]
    },
    {
      "cell_type": "code",
      "metadata": {
        "id": "mBtk3mQ7bRLq"
      },
      "source": [
        "model = Sequential()\r\n",
        "\r\n",
        "model.add( Convolution2D( 32, 3, 3, input_shape=(28,28,1), activation='relu' ) )\r\n",
        "model.add( MaxPooling2D( pool_size=(2,2) ) )\r\n",
        "\r\n",
        "model.add( Convolution2D( 64, 2, 2, activation='relu' ) )\r\n",
        "model.add( MaxPooling2D( pool_size=(2,2) ) )\r\n",
        "\r\n",
        "model.add( Convolution2D( 128, 1, 1, activation='relu' ) )\r\n",
        "model.add( MaxPooling2D( pool_size=(1,1) ) )\r\n",
        "\r\n",
        "model.add( Convolution2D( 256, 1, 1, activation='relu' ) )\r\n",
        "model.add( MaxPooling2D( pool_size=(1,1) ) )\r\n",
        "\r\n",
        "model.add( Flatten() )\r\n",
        "\r\n",
        "model.add( Dense( units=128, activation='relu' ) )\r\n",
        "model.add( Dropout( 0.4 ) )\r\n",
        "model.add( Dense( units=128, activation='relu' ) )\r\n",
        "model.add( Dense( units=10, activation='softmax' ) )\r\n",
        "\r\n",
        "model.compile( optimizer='adam', loss = 'sparse_categorical_crossentropy', metrics = ['accuracy'] )\r\n",
        "model.fit( train_img, Label, epochs=40, batch_size=64 )"
      ],
      "execution_count": null,
      "outputs": []
    },
    {
      "cell_type": "code",
      "metadata": {
        "colab": {
          "base_uri": "https://localhost:8080/",
          "height": 282
        },
        "id": "loILhpXjcHHp",
        "outputId": "4369bbbd-6f1e-411d-da01-b36927f4ef78"
      },
      "source": [
        "result = model.predict( test_img[0].reshape( (1, 28, 28, 1) ) )\r\n",
        "val = np.argmax( result, axis=-1 )[0]\r\n",
        "plt.imshow( test_img[0].reshape( (28, 28) ) )\r\n",
        "print(\"The model prediction is {0}\".format(val))"
      ],
      "execution_count": 35,
      "outputs": [
        {
          "output_type": "stream",
          "text": [
            "The model prediction is 2\n"
          ],
          "name": "stdout"
        },
        {
          "output_type": "display_data",
          "data": {
            "image/png": "[encoded data removed]",
            "text/plain": [
              "<Figure size 432x288 with 1 Axes>"
            ]
          },
          "metadata": {
            "tags": [],
            "needs_background": "light"
          }
        }
      ]
    },
    {
      "cell_type": "code",
      "metadata": {
        "colab": {
          "base_uri": "https://localhost:8080/",
          "height": 282
        },
        "id": "u5IWry3lcI7Y",
        "outputId": "47c16d22-bda6-4ba6-dfb1-0d26c509b2fb"
      },
      "source": [
        "plt.imshow( test_img[1].reshape( (28, 28) ) )\r\n",
        "result = model.predict( test_img[1].reshape( (1, 28, 28, 1) ) )\r\n",
        "val = np.argmax( result, axis=-1 )[0]\r\n",
        "print(\"The model prediction is {0}\".format(val))"
      ],
      "execution_count": 36,
      "outputs": [
        {
          "output_type": "stream",
          "text": [
            "The model prediction is 0\n"
          ],
          "name": "stdout"
        },
        {
          "output_type": "display_data",
          "data": {
            "image/png": "[encoded data removed]",
            "text/plain": [
              "<Figure size 432x288 with 1 Axes>"
            ]
          },
          "metadata": {
            "tags": [],
            "needs_background": "light"
          }
        }
      ]
    },
    {
      "cell_type": "code",
      "metadata": {
        "colab": {
          "base_uri": "https://localhost:8080/",
          "height": 282
        },
        "id": "OjNNl2incJGE",
        "outputId": "ec04ae26-f8a7-4cf2-9a20-d8e96210ad47"
      },
      "source": [
        "plt.imshow( test_img[2].reshape( (28, 28) ) )\r\n",
        "result = model.predict( test_img[2].reshape( (1, 28, 28, 1) ) )\r\n",
        "val = np.argmax( result, axis=-1 )[0]\r\n",
        "print(\"The model prediction is {0}\".format(val))"
      ],
      "execution_count": 37,
      "outputs": [
        {
          "output_type": "stream",
          "text": [
            "The model prediction is 9\n"
          ],
          "name": "stdout"
        },
        {
          "output_type": "display_data",
          "data": {
            "image/png": "[encoded data removed]",
            "text/plain": [
              "<Figure size 432x288 with 1 Axes>"
            ]
          },
          "metadata": {
            "tags": [],
            "needs_background": "light"
          }
        }
      ]
    },
    {
      "cell_type": "code",
      "metadata": {
        "id": "1GPUjZoJakXn"
      },
      "source": [
        "final_result = model.predict( test_img )\r\n",
        "final_result = np.argmax( final_result, axis=-1 )"
      ],
      "execution_count": 19,
      "outputs": []
    },
    {
      "cell_type": "code",
      "metadata": {
        "id": "-OAbFOnYa_Mt"
      },
      "source": [
        "submission = pd.read_csv('/content/drive/MyDrive/Kaggle /Digit Recognition/sample_submission.csv')"
      ],
      "execution_count": 20,
      "outputs": []
    },
    {
      "cell_type": "code",
      "metadata": {
        "colab": {
          "base_uri": "https://localhost:8080/",
          "height": 204
        },
        "id": "nFlyizmibBMs",
        "outputId": "ca92bb9d-0c99-4d6b-8706-5299a77b6983"
      },
      "source": [
        "submission.head()"
      ],
      "execution_count": 21,
      "outputs": [
        {
          "output_type": "execute_result",
          "data": {
            "text/html": [
              "<div>\n",
              "<style scoped>\n",
              "    .dataframe tbody tr th:only-of-type {\n",
              "        vertical-align: middle;\n",
              "    }\n",
              "\n",
              "    .dataframe tbody tr th {\n",
              "        vertical-align: top;\n",
              "    }\n",
              "\n",
              "    .dataframe thead th {\n",
              "        text-align: right;\n",
              "    }\n",
              "</style>\n",
              "<table border=\"1\" class=\"dataframe\">\n",
              "  <thead>\n",
              "    <tr style=\"text-align: right;\">\n",
              "      <th></th>\n",
              "      <th>ImageId</th>\n",
              "      <th>Label</th>\n",
              "    </tr>\n",
              "  </thead>\n",
              "  <tbody>\n",
              "    <tr>\n",
              "      <th>0</th>\n",
              "      <td>1</td>\n",
              "      <td>0</td>\n",
              "    </tr>\n",
              "    <tr>\n",
              "      <th>1</th>\n",
              "      <td>2</td>\n",
              "      <td>0</td>\n",
              "    </tr>\n",
              "    <tr>\n",
              "      <th>2</th>\n",
              "      <td>3</td>\n",
              "      <td>0</td>\n",
              "    </tr>\n",
              "    <tr>\n",
              "      <th>3</th>\n",
              "      <td>4</td>\n",
              "      <td>0</td>\n",
              "    </tr>\n",
              "    <tr>\n",
              "      <th>4</th>\n",
              "      <td>5</td>\n",
              "      <td>0</td>\n",
              "    </tr>\n",
              "  </tbody>\n",
              "</table>\n",
              "</div>"
            ],
            "text/plain": [
              "   ImageId  Label\n",
              "0        1      0\n",
              "1        2      0\n",
              "2        3      0\n",
              "3        4      0\n",
              "4        5      0"
            ]
          },
          "metadata": {
            "tags": []
          },
          "execution_count": 21
        }
      ]
    },
    {
      "cell_type": "code",
      "metadata": {
        "id": "8RXQFZUqbD5G"
      },
      "source": [
        "submission['Label'] = final_result"
      ],
      "execution_count": 22,
      "outputs": []
    },
    {
      "cell_type": "code",
      "metadata": {
        "colab": {
          "base_uri": "https://localhost:8080/",
          "height": 359
        },
        "id": "J3rYqfvSbGji",
        "outputId": "af1c7221-fea5-4214-c16f-054039b51f87"
      },
      "source": [
        "submission.head(10)"
      ],
      "execution_count": 23,
      "outputs": [
        {
          "output_type": "execute_result",
          "data": {
            "text/html": [
              "<div>\n",
              "<style scoped>\n",
              "    .dataframe tbody tr th:only-of-type {\n",
              "        vertical-align: middle;\n",
              "    }\n",
              "\n",
              "    .dataframe tbody tr th {\n",
              "        vertical-align: top;\n",
              "    }\n",
              "\n",
              "    .dataframe thead th {\n",
              "        text-align: right;\n",
              "    }\n",
              "</style>\n",
              "<table border=\"1\" class=\"dataframe\">\n",
              "  <thead>\n",
              "    <tr style=\"text-align: right;\">\n",
              "      <th></th>\n",
              "      <th>ImageId</th>\n",
              "      <th>Label</th>\n",
              "    </tr>\n",
              "  </thead>\n",
              "  <tbody>\n",
              "    <tr>\n",
              "      <th>0</th>\n",
              "      <td>1</td>\n",
              "      <td>2</td>\n",
              "    </tr>\n",
              "    <tr>\n",
              "      <th>1</th>\n",
              "      <td>2</td>\n",
              "      <td>0</td>\n",
              "    </tr>\n",
              "    <tr>\n",
              "      <th>2</th>\n",
              "      <td>3</td>\n",
              "      <td>9</td>\n",
              "    </tr>\n",
              "    <tr>\n",
              "      <th>3</th>\n",
              "      <td>4</td>\n",
              "      <td>6</td>\n",
              "    </tr>\n",
              "    <tr>\n",
              "      <th>4</th>\n",
              "      <td>5</td>\n",
              "      <td>3</td>\n",
              "    </tr>\n",
              "    <tr>\n",
              "      <th>5</th>\n",
              "      <td>6</td>\n",
              "      <td>7</td>\n",
              "    </tr>\n",
              "    <tr>\n",
              "      <th>6</th>\n",
              "      <td>7</td>\n",
              "      <td>0</td>\n",
              "    </tr>\n",
              "    <tr>\n",
              "      <th>7</th>\n",
              "      <td>8</td>\n",
              "      <td>3</td>\n",
              "    </tr>\n",
              "    <tr>\n",
              "      <th>8</th>\n",
              "      <td>9</td>\n",
              "      <td>0</td>\n",
              "    </tr>\n",
              "    <tr>\n",
              "      <th>9</th>\n",
              "      <td>10</td>\n",
              "      <td>3</td>\n",
              "    </tr>\n",
              "  </tbody>\n",
              "</table>\n",
              "</div>"
            ],
            "text/plain": [
              "   ImageId  Label\n",
              "0        1      2\n",
              "1        2      0\n",
              "2        3      9\n",
              "3        4      6\n",
              "4        5      3\n",
              "5        6      7\n",
              "6        7      0\n",
              "7        8      3\n",
              "8        9      0\n",
              "9       10      3"
            ]
          },
          "metadata": {
            "tags": []
          },
          "execution_count": 23
        }
      ]
    },
    {
      "cell_type": "code",
      "metadata": {
        "id": "a4GfhAtPbHel"
      },
      "source": [
        "submission.to_csv('result.csv', index=False)"
      ],
      "execution_count": 24,
      "outputs": []
    },
    {
      "cell_type": "code",
      "metadata": {
        "id": "413qqFhGdaMV"
      },
      "source": [
        ""
      ],
      "execution_count": null,
      "outputs": []
    }
  ]
}